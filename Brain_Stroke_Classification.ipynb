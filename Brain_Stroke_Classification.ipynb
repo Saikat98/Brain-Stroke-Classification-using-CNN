{
  "cells": [
    {
      "attachments": {},
      "cell_type": "markdown",
      "id": "3bb854ec",
      "metadata": {
        "id": "3bb854ec"
      },
      "source": [
        "## **Brain Stroke Image classification**\n",
        "---\n",
        "\n",
        "### **Solved by:**\n",
        "- Team Name: *Mission AI*\n",
        "- Team Members: *Bhargav, Bipul, Dinesh, Saikat, Sajit*\n",
        "- Date: *11/04/2023*"
      ]
    },
    {
      "cell_type": "markdown",
      "id": "95211f60",
      "metadata": {
        "id": "95211f60"
      },
      "source": [
        "## Importing"
      ]
    },
    {
      "cell_type": "code",
      "execution_count": null,
      "id": "572f58da",
      "metadata": {
        "id": "572f58da"
      },
      "outputs": [],
      "source": [
        "import pathlib\n",
        "import numpy as np\n",
        "import pandas as pd\n",
        "import os\n",
        "import shutil\n",
        "import cv2\n",
        "import matplotlib.pyplot as plt\n",
        "import seaborn as sns\n",
        "from tqdm import tqdm\n",
        "import tensorflow as tf\n",
        "import random\n",
        "from tensorflow import keras\n",
        "from tensorflow.keras import backend as K\n",
        "from sklearn.metrics import confusion_matrix, classification_report\n",
        "from sklearn.model_selection import train_test_split"
      ]
    },
    {
      "cell_type": "markdown",
      "id": "75783f58",
      "metadata": {
        "id": "75783f58"
      },
      "source": [
        "## Segregating the images\n",
        " - We have converted the DICOM files into JPG images manually using the tool \"Radiantviewer\".\n",
        " - Using the below code we have seggregated the converted images in \"Positive\" and \"Negative\" folders as per the labels provided in the \"Stroke _DCM _Train_Labels.xlsx\" file."
      ]
    },
    {
      "cell_type": "code",
      "execution_count": null,
      "id": "b2cd5023",
      "metadata": {
        "id": "b2cd5023"
      },
      "outputs": [],
      "source": [
        "# Create a list of positive and Negative indices \n",
        "\n",
        "labels_file = pd.read_excel('/Users/sajitshankar/tensorflow-test/IITG /HACKATHON 2/Stroke _DCM _Train_Labels.xlsx',header=[1],nrows=108)\n",
        "\n",
        "def get_positive_index(x):\n",
        "    if \",\" in x:\n",
        "        start = x.split(\" , \")\n",
        "        index_1 = list(np.arange(int(start[0].split(\" to \")[0]),int(start[0].split(\" to \")[1])+1))\n",
        "        index_2 = list(np.arange(int(start[1].split(\" to \")[0]),int(start[1].split(\" to \")[1])+1))\n",
        "        return index_1 + index_2\n",
        "    else:\n",
        "        return list(np.arange(int(x.split(\" to \")[0]),int(x.split(\" to \")[1])+1))\n",
        "    \n",
        "def get_negative_index(count,positive_index_val):\n",
        "    total_range = list(np.arange(1,count+1))\n",
        "    index = [i for i in total_range if i not in list(positive_index_val)]\n",
        "    return index\n",
        "    \n",
        "labels_file[\"positive_index\"] = labels_file[\"Positive\"].apply(lambda x: get_positive_index(x))\n",
        "labels_file[\"negative_index\"] = labels_file[[\"Unnamed: 2\",\"positive_index\"]].apply(lambda x: get_negative_index(x[\"Unnamed: 2\"],x[\"positive_index\"]),axis=1)\n",
        "\n",
        "# QC step\n",
        "labels_file[\"postive_count_QC\"] = labels_file[\"positive_index\"].apply(lambda x: len(x))\n",
        "labels_file[\"negative_count_QC\"] = labels_file[\"negative_index\"].apply(lambda x: len(x))\n",
        "\n",
        "# rename the columns\n",
        "labels_file.rename(columns={\"Unnamed: 0\":\"ID\"},inplace=True)\n",
        "labels_file.rename(columns={\"Unnamed: 1\":\"IMAGE NAME\"},inplace=True)\n",
        "labels_file.rename(columns={\"Unnamed: 2\":\"IMAGE COUNT\"},inplace=True)"
      ]
    },
    {
      "cell_type": "code",
      "execution_count": null,
      "id": "a037aac0",
      "metadata": {
        "id": "a037aac0",
        "outputId": "6047875f-594b-4ec3-f221-9a62c4cc3a7d"
      },
      "outputs": [
        {
          "data": {
            "text/html": [
              "<div>\n",
              "<style scoped>\n",
              "    .dataframe tbody tr th:only-of-type {\n",
              "        vertical-align: middle;\n",
              "    }\n",
              "\n",
              "    .dataframe tbody tr th {\n",
              "        vertical-align: top;\n",
              "    }\n",
              "\n",
              "    .dataframe thead th {\n",
              "        text-align: right;\n",
              "    }\n",
              "</style>\n",
              "<table border=\"1\" class=\"dataframe\">\n",
              "  <thead>\n",
              "    <tr style=\"text-align: right;\">\n",
              "      <th></th>\n",
              "      <th>ID</th>\n",
              "      <th>IMAGE NAME</th>\n",
              "      <th>IMAGE COUNT</th>\n",
              "      <th>Positive</th>\n",
              "      <th>Total Positive</th>\n",
              "      <th>Negative</th>\n",
              "      <th>positive_index</th>\n",
              "      <th>negative_index</th>\n",
              "      <th>postive_count_QC</th>\n",
              "      <th>negative_count_QC</th>\n",
              "    </tr>\n",
              "  </thead>\n",
              "  <tbody>\n",
              "    <tr>\n",
              "      <th>0</th>\n",
              "      <td>1</td>\n",
              "      <td>STP21</td>\n",
              "      <td>50</td>\n",
              "      <td>26 to 44</td>\n",
              "      <td>19</td>\n",
              "      <td>31</td>\n",
              "      <td>[26, 27, 28, 29, 30, 31, 32, 33, 34, 35, 36, 3...</td>\n",
              "      <td>[1, 2, 3, 4, 5, 6, 7, 8, 9, 10, 11, 12, 13, 14...</td>\n",
              "      <td>19</td>\n",
              "      <td>31</td>\n",
              "    </tr>\n",
              "    <tr>\n",
              "      <th>1</th>\n",
              "      <td>2</td>\n",
              "      <td>STP22</td>\n",
              "      <td>50</td>\n",
              "      <td>26 to 46</td>\n",
              "      <td>21</td>\n",
              "      <td>29</td>\n",
              "      <td>[26, 27, 28, 29, 30, 31, 32, 33, 34, 35, 36, 3...</td>\n",
              "      <td>[1, 2, 3, 4, 5, 6, 7, 8, 9, 10, 11, 12, 13, 14...</td>\n",
              "      <td>21</td>\n",
              "      <td>29</td>\n",
              "    </tr>\n",
              "    <tr>\n",
              "      <th>2</th>\n",
              "      <td>3</td>\n",
              "      <td>STP23</td>\n",
              "      <td>50</td>\n",
              "      <td>26 to 42</td>\n",
              "      <td>17</td>\n",
              "      <td>33</td>\n",
              "      <td>[26, 27, 28, 29, 30, 31, 32, 33, 34, 35, 36, 3...</td>\n",
              "      <td>[1, 2, 3, 4, 5, 6, 7, 8, 9, 10, 11, 12, 13, 14...</td>\n",
              "      <td>17</td>\n",
              "      <td>33</td>\n",
              "    </tr>\n",
              "    <tr>\n",
              "      <th>3</th>\n",
              "      <td>4</td>\n",
              "      <td>STP24</td>\n",
              "      <td>50</td>\n",
              "      <td>26 to 46</td>\n",
              "      <td>21</td>\n",
              "      <td>29</td>\n",
              "      <td>[26, 27, 28, 29, 30, 31, 32, 33, 34, 35, 36, 3...</td>\n",
              "      <td>[1, 2, 3, 4, 5, 6, 7, 8, 9, 10, 11, 12, 13, 14...</td>\n",
              "      <td>21</td>\n",
              "      <td>29</td>\n",
              "    </tr>\n",
              "    <tr>\n",
              "      <th>4</th>\n",
              "      <td>5</td>\n",
              "      <td>STP25</td>\n",
              "      <td>50</td>\n",
              "      <td>26 to 45</td>\n",
              "      <td>20</td>\n",
              "      <td>30</td>\n",
              "      <td>[26, 27, 28, 29, 30, 31, 32, 33, 34, 35, 36, 3...</td>\n",
              "      <td>[1, 2, 3, 4, 5, 6, 7, 8, 9, 10, 11, 12, 13, 14...</td>\n",
              "      <td>20</td>\n",
              "      <td>30</td>\n",
              "    </tr>\n",
              "  </tbody>\n",
              "</table>\n",
              "</div>"
            ],
            "text/plain": [
              "   ID IMAGE NAME  IMAGE COUNT  Positive  Total Positive  Negative  \\\n",
              "0   1      STP21           50  26 to 44              19        31   \n",
              "1   2      STP22           50  26 to 46              21        29   \n",
              "2   3      STP23           50  26 to 42              17        33   \n",
              "3   4      STP24           50  26 to 46              21        29   \n",
              "4   5      STP25           50  26 to 45              20        30   \n",
              "\n",
              "                                      positive_index  \\\n",
              "0  [26, 27, 28, 29, 30, 31, 32, 33, 34, 35, 36, 3...   \n",
              "1  [26, 27, 28, 29, 30, 31, 32, 33, 34, 35, 36, 3...   \n",
              "2  [26, 27, 28, 29, 30, 31, 32, 33, 34, 35, 36, 3...   \n",
              "3  [26, 27, 28, 29, 30, 31, 32, 33, 34, 35, 36, 3...   \n",
              "4  [26, 27, 28, 29, 30, 31, 32, 33, 34, 35, 36, 3...   \n",
              "\n",
              "                                      negative_index  postive_count_QC  \\\n",
              "0  [1, 2, 3, 4, 5, 6, 7, 8, 9, 10, 11, 12, 13, 14...                19   \n",
              "1  [1, 2, 3, 4, 5, 6, 7, 8, 9, 10, 11, 12, 13, 14...                21   \n",
              "2  [1, 2, 3, 4, 5, 6, 7, 8, 9, 10, 11, 12, 13, 14...                17   \n",
              "3  [1, 2, 3, 4, 5, 6, 7, 8, 9, 10, 11, 12, 13, 14...                21   \n",
              "4  [1, 2, 3, 4, 5, 6, 7, 8, 9, 10, 11, 12, 13, 14...                20   \n",
              "\n",
              "   negative_count_QC  \n",
              "0                 31  \n",
              "1                 29  \n",
              "2                 33  \n",
              "3                 29  \n",
              "4                 30  "
            ]
          },
          "execution_count": 3,
          "metadata": {},
          "output_type": "execute_result"
        }
      ],
      "source": [
        "labels_file.head()"
      ]
    },
    {
      "cell_type": "code",
      "execution_count": null,
      "id": "d1ccdec7",
      "metadata": {
        "id": "d1ccdec7"
      },
      "outputs": [],
      "source": [
        "# Seggregating stroke_yes images in positive folder and stroke_no images in negative folder\n",
        "\n",
        "parent_folder = '/Users/sajitshankar/tensorflow-test/IITG /HACKATHON 2/STOKE IMAGE_JPG_FINAL'\n",
        "\n",
        "# Create the destination folders\n",
        "pos_folder = os.path.join(parent_folder, 'positive')\n",
        "neg_folder = os.path.join(parent_folder, 'negative')\n",
        "os.makedirs(pos_folder, exist_ok=True)\n",
        "os.makedirs(neg_folder, exist_ok=True)\n",
        "\n",
        "# Iterate through subfolders\n",
        "for subfolder in tqdm(os.listdir(parent_folder)):\n",
        "    subfolder_path = os.path.join(parent_folder, subfolder)\n",
        "    subfolder_path = os.path.join(subfolder_path, \"STUDY\")\n",
        "    if os.path.isdir(subfolder_path) and subfolder not in ['positive', 'negative']:\n",
        "        \n",
        "        # Iterate through files in the subfolder\n",
        "        files = [f for f in os.listdir(subfolder_path) if f.lower().endswith('.jpg')]\n",
        "        files.sort()\n",
        "        \n",
        "        pos_list = labels_file[labels_file[\"IMAGE NAME\"]==subfolder][\"positive_index\"].values[0]\n",
        "        neg_list = labels_file[labels_file[\"IMAGE NAME\"]==subfolder][\"negative_index\"].values[0]\n",
        "        \n",
        "        # Now, the files list is sorted in the sequence of the images\n",
        "        for index, file in enumerate(files, start=1):\n",
        "            file_path = os.path.join(subfolder_path, file)\n",
        "            \n",
        "            if index in pos_list:\n",
        "                dest_path = os.path.join(pos_folder, subfolder+\"_\"+file)\n",
        "                shutil.move(file_path, dest_path)\n",
        "                \n",
        "            elif index in neg_list:\n",
        "                dest_path = os.path.join(neg_folder, subfolder+\"_\"+file)\n",
        "                shutil.move(file_path, dest_path)"
      ]
    },
    {
      "cell_type": "markdown",
      "id": "39e531e9",
      "metadata": {
        "id": "39e531e9"
      },
      "source": [
        "## Exploring the data"
      ]
    },
    {
      "cell_type": "markdown",
      "id": "f5b10d36",
      "metadata": {
        "id": "f5b10d36"
      },
      "source": [
        "### Analyzing data to understand whether data is balanced or not."
      ]
    },
    {
      "cell_type": "code",
      "execution_count": null,
      "id": "fadda698",
      "metadata": {
        "id": "fadda698",
        "outputId": "145e9661-f478-428e-bdb9-5fd217c1db47"
      },
      "outputs": [
        {
          "data": {
            "image/png": "[encoded data removed]",
            "text/plain": [
              "<Figure size 640x480 with 1 Axes>"
            ]
          },
          "metadata": {},
          "output_type": "display_data"
        }
      ],
      "source": [
        "\n",
        "# Pie chart data\n",
        "sizes = [labels_file[\"postive_count_QC\"].sum(), labels_file[\"negative_count_QC\"].sum()]\n",
        "labels = ['Positive', 'Negative']\n",
        "colors = ['orange','#3b9678']\n",
        "\n",
        "# Create pie chart\n",
        "fig, ax = plt.subplots()\n",
        "ax.pie(sizes, labels=labels, colors=colors, autopct='%1.1f%%', startangle=90)\n",
        "\n",
        "# Draw white circle in the center\n",
        "center_circle = plt.Circle((0, 0), 0.5, fc='white')\n",
        "fig.gca().add_artist(center_circle)\n",
        "\n",
        "# Equal aspect ratio ensures that pie is drawn as a circle\n",
        "ax.axis('equal')\n",
        "plt.title('Distribution of Positive and Negative samples in Training Data')\n",
        "plt.tight_layout()\n",
        "plt.show()\n"
      ]
    },
    {
      "cell_type": "markdown",
      "id": "b9164c1f",
      "metadata": {
        "id": "b9164c1f"
      },
      "source": [
        "Positives are 39.8% and Negatives are 60.2% in the training data.\n",
        "Data is slighlty imbalanced."
      ]
    },
    {
      "cell_type": "markdown",
      "id": "ac733839",
      "metadata": {
        "id": "ac733839"
      },
      "source": [
        "### Analyzing frequency of positive indices (MRI slices)"
      ]
    },
    {
      "cell_type": "code",
      "execution_count": null,
      "id": "c1f53de3",
      "metadata": {
        "id": "c1f53de3",
        "outputId": "be26a11a-aeed-4cd4-c0dc-de4238d4a26f"
      },
      "outputs": [
        {
          "data": {
            "image/png": "[encoded data removed]",
            "text/plain": [
              "<Figure size 1500x500 with 1 Axes>"
            ]
          },
          "metadata": {},
          "output_type": "display_data"
        }
      ],
      "source": [
        "# Extract positive index data\n",
        "positive_indices = labels_file[\"positive_index\"].explode()\n",
        "\n",
        "# Create histogram\n",
        "fig = plt.figure(figsize=(15,5))\n",
        "plt.hist(positive_indices, bins='auto', color='orange', alpha=0.7, rwidth=0.9)\n",
        "plt.grid(axis='y', alpha=0.75)\n",
        "plt.xlabel('Positive Indices')\n",
        "plt.ylabel('Frequency')\n",
        "plt.title('Histogram - Frequency of Positive Indices')\n",
        "\n",
        "# Decrease step size on x-axis\n",
        "min_value = 0\n",
        "max_value = int(np.max(positive_indices))\n",
        "step_size = 2  # Adjust this value to change the step size\n",
        "plt.xticks(np.arange(min_value, max_value+1, step_size))\n",
        "\n",
        "plt.show()\n"
      ]
    },
    {
      "cell_type": "markdown",
      "id": "310cbc3f",
      "metadata": {
        "id": "310cbc3f"
      },
      "source": [
        "From the above histogram it could be inferred that the frequency of positives are very high between 26 to 44."
      ]
    },
    {
      "cell_type": "markdown",
      "id": "be9de4b8",
      "metadata": {
        "id": "be9de4b8"
      },
      "source": [
        "## Loading the images"
      ]
    },
    {
      "cell_type": "code",
      "execution_count": null,
      "id": "d397609b",
      "metadata": {
        "id": "d397609b"
      },
      "outputs": [],
      "source": [
        "data_dir = pathlib.Path(\"/Users/sajitshankar/tensorflow-test/IITG /HACKATHON 2/STOKE IMAGE_JPG_FINAL\")"
      ]
    },
    {
      "cell_type": "code",
      "execution_count": null,
      "id": "34b70598",
      "metadata": {
        "id": "34b70598"
      },
      "outputs": [],
      "source": [
        "# training data\n",
        "train_positive_images = list(data_dir.glob('positive/*.jpg'))\n",
        "train_negative_images = list(data_dir.glob('negative/*.jpg'))"
      ]
    },
    {
      "cell_type": "code",
      "execution_count": null,
      "id": "b48c41ed",
      "metadata": {
        "id": "b48c41ed",
        "outputId": "5d294a7e-2066-4258-d601-4f470e641919"
      },
      "outputs": [
        {
          "name": "stdout",
          "output_type": "stream",
          "text": [
            "Total # of positive images: 2110\n",
            "Total # of negative images: 3188\n"
          ]
        }
      ],
      "source": [
        "print(f\"Total # of positive images: {len(train_positive_images)}\\nTotal # of negative images: {len(train_negative_images)}\")"
      ]
    },
    {
      "cell_type": "markdown",
      "id": "60f1a298",
      "metadata": {
        "id": "60f1a298"
      },
      "source": [
        "## Preprocessing\n",
        " - Resizing the image resolution"
      ]
    },
    {
      "cell_type": "code",
      "execution_count": null,
      "id": "7830d57f",
      "metadata": {
        "id": "7830d57f"
      },
      "outputs": [],
      "source": [
        "# setting image parameters\n",
        "IMAGE_WIDTH = 170\n",
        "IMAGE_HEIGHT = 170\n",
        "IMAGE_COLOR_CHANNELS = 3  # RGB\n",
        "\n",
        "# encoding labels\n",
        "labels_dict = {\n",
        "  'negative': 0,\n",
        "  'positive': 1,\n",
        "}"
      ]
    },
    {
      "cell_type": "code",
      "execution_count": null,
      "id": "2c226398",
      "metadata": {
        "id": "2c226398"
      },
      "outputs": [],
      "source": [
        "# preprocessing function\n",
        "def get_image_array(positive_images,negative_images,IMAGE_WIDTH=128,IMAGE_HEIGHT=128):\n",
        "  \"\"\"\n",
        "  This function resizes the images\n",
        "  and converts it to an numpy array and\n",
        "  returns it along with the class labels\n",
        "  \"\"\"\n",
        "  images_dict = {\n",
        "    'positive': positive_images,\n",
        "    'negative': negative_images,\n",
        "  }\n",
        "  X, y = [], []\n",
        "\n",
        "  for image_type, images in images_dict.items():\n",
        "    for image in images:\n",
        "      img = cv2.imread(str(image))\n",
        "      if isinstance(img,type(None)): \n",
        "        pass\n",
        "          \n",
        "      elif ((img.shape[0] >= IMAGE_HEIGHT) and  (img.shape[1] >=IMAGE_WIDTH)):\n",
        "        resized_img = cv2.resize(img,(IMAGE_WIDTH,IMAGE_HEIGHT))\n",
        "        X.append(resized_img)\n",
        "        y.append(labels_dict[image_type])\n",
        "      else:\n",
        "        pass\n",
        "  X = np.array(X)\n",
        "  y = np.array(y)\n",
        "\n",
        "  return X,y"
      ]
    },
    {
      "cell_type": "code",
      "execution_count": null,
      "id": "d922650f",
      "metadata": {
        "id": "d922650f"
      },
      "outputs": [],
      "source": [
        "X, y = get_image_array(train_positive_images,train_negative_images,IMAGE_WIDTH,IMAGE_HEIGHT)"
      ]
    },
    {
      "cell_type": "markdown",
      "id": "d70e39da",
      "metadata": {
        "id": "d70e39da"
      },
      "source": [
        "## Train-Validation Split\n",
        "- Splitting the datset into train & validation using 80-20 split"
      ]
    },
    {
      "cell_type": "code",
      "execution_count": null,
      "id": "8173be42",
      "metadata": {
        "id": "8173be42"
      },
      "outputs": [],
      "source": [
        "# train test split\n",
        "X_train, X_val, y_train, y_val = train_test_split(X, y, test_size=0.2, random_state=42)"
      ]
    },
    {
      "cell_type": "code",
      "execution_count": null,
      "id": "b96522c1",
      "metadata": {
        "id": "b96522c1",
        "outputId": "174a29d3-8b31-475b-fda5-b13b21b978db"
      },
      "outputs": [
        {
          "name": "stdout",
          "output_type": "stream",
          "text": [
            "Train array shape: (4238, 170, 170, 3)\n",
            "Test array shape: (1060, 170, 170, 3)\n"
          ]
        }
      ],
      "source": [
        "print(f\"Train array shape: {X_train.shape}\")\n",
        "print(f\"Test array shape: {X_val.shape}\")"
      ]
    },
    {
      "cell_type": "markdown",
      "id": "21439846",
      "metadata": {
        "id": "21439846"
      },
      "source": [
        "## Model\n",
        " - Building the CNN Model"
      ]
    },
    {
      "cell_type": "code",
      "execution_count": null,
      "id": "a5d4313f",
      "metadata": {
        "id": "a5d4313f"
      },
      "outputs": [],
      "source": [
        "# fixing the seed to reproduce consistent results\n",
        "\n",
        "def set_seed(seed_value):\n",
        "    os.environ['PYTHONHASHSEED'] = str(seed_value)\n",
        "    np.random.seed(seed_value)\n",
        "    random.seed(seed_value)\n",
        "    tf.random.set_seed(seed_value)\n",
        "\n",
        "SEED_VALUE = 42\n",
        "set_seed(SEED_VALUE)"
      ]
    },
    {
      "cell_type": "code",
      "execution_count": null,
      "id": "fb3e33df",
      "metadata": {
        "id": "fb3e33df"
      },
      "outputs": [],
      "source": [
        "# Define a custom F1-score function\n",
        "def f1_score(y_true, y_pred):\n",
        "    true_positives = K.sum(K.round(K.clip(y_true * y_pred, 0, 1)))\n",
        "    possible_positives = K.sum(K.round(K.clip(y_true, 0, 1)))\n",
        "    predicted_positives = K.sum(K.round(K.clip(y_pred, 0, 1)))\n",
        "    precision = true_positives / (predicted_positives + K.epsilon())\n",
        "    recall = true_positives / (possible_positives + K.epsilon())\n",
        "    f1_val = 2 * (precision * recall) / (precision + recall + K.epsilon())\n",
        "    return f1_val"
      ]
    },
    {
      "cell_type": "code",
      "execution_count": null,
      "id": "5058c6cc",
      "metadata": {
        "id": "5058c6cc",
        "outputId": "b057f1ce-414b-47c6-8092-a8d96354cd17"
      },
      "outputs": [
        {
          "name": "stdout",
          "output_type": "stream",
          "text": [
            "Metal device set to: Apple M1 Pro\n",
            "\n",
            "systemMemory: 16.00 GB\n",
            "maxCacheSize: 5.33 GB\n",
            "\n",
            "Model: \"sequential\"\n",
            "_________________________________________________________________\n",
            " Layer (type)                Output Shape              Param #   \n",
            "=================================================================\n",
            " conv2d (Conv2D)             (None, 168, 168, 32)      896       \n",
            "                                                                 \n",
            " batch_normalization (BatchN  (None, 168, 168, 32)     128       \n",
            " ormalization)                                                   \n",
            "                                                                 \n",
            " max_pooling2d (MaxPooling2D  (None, 84, 84, 32)       0         \n",
            " )                                                               \n",
            "                                                                 \n",
            " dropout (Dropout)           (None, 84, 84, 32)        0         \n",
            "                                                                 \n",
            " conv2d_1 (Conv2D)           (None, 82, 82, 64)        18496     \n",
            "                                                                 \n",
            " batch_normalization_1 (Batc  (None, 82, 82, 64)       256       \n",
            " hNormalization)                                                 \n",
            "                                                                 \n",
            " max_pooling2d_1 (MaxPooling  (None, 41, 41, 64)       0         \n",
            " 2D)                                                             \n",
            "                                                                 \n",
            " dropout_1 (Dropout)         (None, 41, 41, 64)        0         \n",
            "                                                                 \n",
            " conv2d_2 (Conv2D)           (None, 39, 39, 128)       73856     \n",
            "                                                                 \n",
            " batch_normalization_2 (Batc  (None, 39, 39, 128)      512       \n",
            " hNormalization)                                                 \n",
            "                                                                 \n",
            " max_pooling2d_2 (MaxPooling  (None, 19, 19, 128)      0         \n",
            " 2D)                                                             \n",
            "                                                                 \n",
            " dropout_2 (Dropout)         (None, 19, 19, 128)       0         \n",
            "                                                                 \n",
            " flatten (Flatten)           (None, 46208)             0         \n",
            "                                                                 \n"
          ]
        },
        {
          "name": "stderr",
          "output_type": "stream",
          "text": [
            "2023-04-11 23:55:51.382482: I tensorflow/core/common_runtime/pluggable_device/pluggable_device_factory.cc:305] Could not identify NUMA node of platform GPU ID 0, defaulting to 0. Your kernel may not have been built with NUMA support.\n",
            "2023-04-11 23:55:51.382600: I tensorflow/core/common_runtime/pluggable_device/pluggable_device_factory.cc:271] Created TensorFlow device (/job:localhost/replica:0/task:0/device:GPU:0 with 0 MB memory) -> physical PluggableDevice (device: 0, name: METAL, pci bus id: <undefined>)\n"
          ]
        },
        {
          "name": "stdout",
          "output_type": "stream",
          "text": [
            " dense (Dense)               (None, 512)               23659008  \n",
            "                                                                 \n",
            " batch_normalization_3 (Batc  (None, 512)              2048      \n",
            " hNormalization)                                                 \n",
            "                                                                 \n",
            " dense_1 (Dense)             (None, 1)                 513       \n",
            "                                                                 \n",
            "=================================================================\n",
            "Total params: 23,755,713\n",
            "Trainable params: 23,754,241\n",
            "Non-trainable params: 1,472\n",
            "_________________________________________________________________\n"
          ]
        }
      ],
      "source": [
        "# CNN model\n",
        "model = keras.models.Sequential(\n",
        "  [\n",
        "    # input layer\n",
        "    keras.layers.Conv2D(32, (3, 3), activation='relu', input_shape=(IMAGE_WIDTH, IMAGE_HEIGHT, IMAGE_COLOR_CHANNELS)),\n",
        "    keras.layers.BatchNormalization(),\n",
        "    keras.layers.MaxPooling2D(pool_size=(2, 2)),\n",
        "    keras.layers.Dropout(0.25),\n",
        "\n",
        "    # hidden layer 1\n",
        "    keras.layers.Conv2D(64, (3, 3), activation='relu'),\n",
        "    keras.layers.BatchNormalization(),\n",
        "    keras.layers.MaxPooling2D(pool_size=(2, 2)),\n",
        "    keras.layers.Dropout(0.25),\n",
        "\n",
        "    # hidden layer 2\n",
        "    keras.layers.Conv2D(128, (3, 3), activation='relu'),\n",
        "    keras.layers.BatchNormalization(),\n",
        "    keras.layers.MaxPooling2D(pool_size=(2, 2)),\n",
        "    keras.layers.Dropout(0.25),\n",
        "\n",
        "    # output layer\n",
        "    keras.layers.Flatten(),\n",
        "    keras.layers.Dense(512, activation='relu'),\n",
        "    keras.layers.BatchNormalization(),\n",
        "    keras.layers.Dense(1, activation='sigmoid'),\n",
        "  ]\n",
        ")\n",
        "\n",
        "model.compile(loss='binary_crossentropy', optimizer='adam', metrics=f1_score)\n",
        "model.summary()"
      ]
    },
    {
      "cell_type": "markdown",
      "id": "a113707a",
      "metadata": {
        "id": "a113707a"
      },
      "source": [
        "### Fitting the model"
      ]
    },
    {
      "cell_type": "code",
      "execution_count": null,
      "id": "78ac27a3",
      "metadata": {
        "id": "78ac27a3",
        "outputId": "c9512640-e439-47f6-a46e-f1a8eede5683"
      },
      "outputs": [
        {
          "name": "stdout",
          "output_type": "stream",
          "text": [
            "Iteration 0\n",
            "Epoch 1/15\n"
          ]
        },
        {
          "name": "stderr",
          "output_type": "stream",
          "text": [
            "2023-04-11 23:56:14.857175: W tensorflow/core/platform/profile_utils/cpu_utils.cc:128] Failed to get CPU frequency: 0 Hz\n",
            "2023-04-11 23:56:15.287315: I tensorflow/core/grappler/optimizers/custom_graph_optimizer_registry.cc:113] Plugin optimizer for device_type GPU is enabled.\n"
          ]
        },
        {
          "name": "stdout",
          "output_type": "stream",
          "text": [
            "133/133 [==============================] - 12s 79ms/step - loss: 0.4975 - f1_score: 0.7245\n",
            "Epoch 2/15\n",
            "133/133 [==============================] - 10s 76ms/step - loss: 0.3183 - f1_score: 0.8365\n",
            "Epoch 3/15\n",
            "133/133 [==============================] - 10s 77ms/step - loss: 0.2788 - f1_score: 0.8575\n",
            "Epoch 4/15\n",
            "133/133 [==============================] - 10s 74ms/step - loss: 0.2411 - f1_score: 0.8842\n",
            "Epoch 5/15\n",
            "133/133 [==============================] - 10s 75ms/step - loss: 0.2172 - f1_score: 0.8950\n",
            "Epoch 6/15\n",
            "133/133 [==============================] - 10s 74ms/step - loss: 0.2114 - f1_score: 0.8966\n",
            "Epoch 7/15\n",
            "133/133 [==============================] - 10s 74ms/step - loss: 0.2036 - f1_score: 0.8959\n",
            "Epoch 8/15\n",
            "133/133 [==============================] - 10s 75ms/step - loss: 0.1936 - f1_score: 0.9121\n",
            "Epoch 9/15\n",
            "133/133 [==============================] - 10s 76ms/step - loss: 0.1791 - f1_score: 0.9108\n",
            "Epoch 10/15\n",
            "133/133 [==============================] - 10s 74ms/step - loss: 0.1569 - f1_score: 0.9244\n",
            "Epoch 11/15\n",
            "133/133 [==============================] - 10s 75ms/step - loss: 0.1415 - f1_score: 0.9318\n",
            "Epoch 12/15\n",
            "133/133 [==============================] - 10s 75ms/step - loss: 0.1808 - f1_score: 0.9092\n",
            "Epoch 13/15\n",
            "133/133 [==============================] - 10s 75ms/step - loss: 0.1364 - f1_score: 0.9357\n",
            "Epoch 14/15\n",
            "133/133 [==============================] - 10s 74ms/step - loss: 0.1271 - f1_score: 0.9367\n",
            "Epoch 15/15\n",
            "133/133 [==============================] - 10s 73ms/step - loss: 0.1136 - f1_score: 0.9458\n",
            "Iteration 1\n",
            "Epoch 1/15\n",
            "133/133 [==============================] - 10s 75ms/step - loss: 0.0970 - f1_score: 0.9485\n",
            "Epoch 2/15\n",
            "133/133 [==============================] - 10s 73ms/step - loss: 0.1114 - f1_score: 0.9445\n",
            "Epoch 3/15\n",
            "133/133 [==============================] - 10s 74ms/step - loss: 0.1030 - f1_score: 0.9537\n",
            "Epoch 4/15\n",
            "133/133 [==============================] - 10s 74ms/step - loss: 0.0758 - f1_score: 0.9628\n",
            "Epoch 5/15\n",
            "133/133 [==============================] - 10s 74ms/step - loss: 0.0670 - f1_score: 0.9736\n",
            "Epoch 6/15\n",
            "133/133 [==============================] - 10s 74ms/step - loss: 0.0565 - f1_score: 0.9773\n",
            "Epoch 7/15\n",
            "133/133 [==============================] - 10s 74ms/step - loss: 0.0768 - f1_score: 0.9626\n",
            "Epoch 8/15\n",
            "133/133 [==============================] - 10s 75ms/step - loss: 0.0679 - f1_score: 0.9694\n",
            "Epoch 9/15\n",
            "133/133 [==============================] - 10s 74ms/step - loss: 0.0513 - f1_score: 0.9750\n",
            "Epoch 10/15\n",
            "133/133 [==============================] - 10s 74ms/step - loss: 0.0477 - f1_score: 0.9759\n",
            "Epoch 11/15\n",
            "133/133 [==============================] - 10s 76ms/step - loss: 0.0394 - f1_score: 0.9850\n",
            "Epoch 12/15\n",
            "133/133 [==============================] - 10s 75ms/step - loss: 0.0510 - f1_score: 0.9737\n",
            "Epoch 13/15\n",
            "133/133 [==============================] - 10s 75ms/step - loss: 0.0392 - f1_score: 0.9816\n",
            "Epoch 14/15\n",
            "133/133 [==============================] - 10s 76ms/step - loss: 0.0414 - f1_score: 0.9791\n",
            "Epoch 15/15\n",
            "133/133 [==============================] - 10s 74ms/step - loss: 0.0382 - f1_score: 0.9839\n"
          ]
        }
      ],
      "source": [
        "result = []\n",
        "for i in range(2):\n",
        "    print(f\"Iteration {i}\")\n",
        "    result.append(model.fit(X_train, y_train, epochs=15))"
      ]
    },
    {
      "cell_type": "markdown",
      "id": "6d90d7b9",
      "metadata": {
        "id": "6d90d7b9"
      },
      "source": [
        "### Model Evaluation"
      ]
    },
    {
      "cell_type": "code",
      "execution_count": null,
      "id": "1b67afb6",
      "metadata": {
        "id": "1b67afb6",
        "outputId": "6bb742cc-cb58-46a8-faad-59eba3f039a8"
      },
      "outputs": [
        {
          "name": "stderr",
          "output_type": "stream",
          "text": [
            "2023-04-12 00:01:14.714244: I tensorflow/core/grappler/optimizers/custom_graph_optimizer_registry.cc:113] Plugin optimizer for device_type GPU is enabled.\n"
          ]
        },
        {
          "name": "stdout",
          "output_type": "stream",
          "text": [
            "Training Loss: 12.92% , Training f1-score: 0.97\n",
            "Validaton Loss: 26.4% , Validaton f1-score: 0.91\n"
          ]
        }
      ],
      "source": [
        "train_loss,train_f1 = model.evaluate(X_train,y_train,verbose=0)\n",
        "val_loss,val_f1 = model.evaluate(X_val,y_val,verbose=0)\n",
        "\n",
        "print(f\"Training Loss: {round(100*train_loss,2)}% , Training f1-score: {round(train_f1,2)}\")\n",
        "print(f\"Validaton Loss: {round(100*val_loss,2)}% , Validaton f1-score: {round(val_f1,2)}\")"
      ]
    },
    {
      "cell_type": "code",
      "execution_count": null,
      "id": "e2e1fe35",
      "metadata": {
        "id": "e2e1fe35",
        "outputId": "4a668dd8-8764-4077-a2b3-917394c50e44"
      },
      "outputs": [
        {
          "name": "stderr",
          "output_type": "stream",
          "text": [
            "2023-04-12 00:01:19.023497: I tensorflow/core/grappler/optimizers/custom_graph_optimizer_registry.cc:113] Plugin optimizer for device_type GPU is enabled.\n"
          ]
        },
        {
          "name": "stdout",
          "output_type": "stream",
          "text": [
            "Classification Report:\n"
          ]
        },
        {
          "data": {
            "text/html": [
              "<div>\n",
              "<style scoped>\n",
              "    .dataframe tbody tr th:only-of-type {\n",
              "        vertical-align: middle;\n",
              "    }\n",
              "\n",
              "    .dataframe tbody tr th {\n",
              "        vertical-align: top;\n",
              "    }\n",
              "\n",
              "    .dataframe thead th {\n",
              "        text-align: right;\n",
              "    }\n",
              "</style>\n",
              "<table border=\"1\" class=\"dataframe\">\n",
              "  <thead>\n",
              "    <tr style=\"text-align: right;\">\n",
              "      <th></th>\n",
              "      <th>precision</th>\n",
              "      <th>recall</th>\n",
              "      <th>f1-score</th>\n",
              "      <th>support</th>\n",
              "    </tr>\n",
              "  </thead>\n",
              "  <tbody>\n",
              "    <tr>\n",
              "      <th>0</th>\n",
              "      <td>0.982270</td>\n",
              "      <td>0.886400</td>\n",
              "      <td>0.931876</td>\n",
              "      <td>625.000000</td>\n",
              "    </tr>\n",
              "    <tr>\n",
              "      <th>1</th>\n",
              "      <td>0.856855</td>\n",
              "      <td>0.977011</td>\n",
              "      <td>0.912997</td>\n",
              "      <td>435.000000</td>\n",
              "    </tr>\n",
              "    <tr>\n",
              "      <th>accuracy</th>\n",
              "      <td>0.923585</td>\n",
              "      <td>0.923585</td>\n",
              "      <td>0.923585</td>\n",
              "      <td>0.923585</td>\n",
              "    </tr>\n",
              "    <tr>\n",
              "      <th>macro avg</th>\n",
              "      <td>0.919562</td>\n",
              "      <td>0.931706</td>\n",
              "      <td>0.922436</td>\n",
              "      <td>1060.000000</td>\n",
              "    </tr>\n",
              "    <tr>\n",
              "      <th>weighted avg</th>\n",
              "      <td>0.930802</td>\n",
              "      <td>0.923585</td>\n",
              "      <td>0.924128</td>\n",
              "      <td>1060.000000</td>\n",
              "    </tr>\n",
              "  </tbody>\n",
              "</table>\n",
              "</div>"
            ],
            "text/plain": [
              "              precision    recall  f1-score      support\n",
              "0              0.982270  0.886400  0.931876   625.000000\n",
              "1              0.856855  0.977011  0.912997   435.000000\n",
              "accuracy       0.923585  0.923585  0.923585     0.923585\n",
              "macro avg      0.919562  0.931706  0.922436  1060.000000\n",
              "weighted avg   0.930802  0.923585  0.924128  1060.000000"
            ]
          },
          "metadata": {},
          "output_type": "display_data"
        }
      ],
      "source": [
        "# getting test predictions\n",
        "y_pred = model.predict(X_val,verbose=0)\n",
        "\n",
        "cuttoff = 0.5 # setting a cutt-off value for the prediction class\n",
        "y_pred_classes = [0 if value < cuttoff else 1 for value in y_pred]\n",
        "\n",
        "# generating the classification report\n",
        "print(\"Classification Report:\")\n",
        "display(pd.DataFrame(classification_report(y_val, y_pred_classes,output_dict=True)).T)"
      ]
    },
    {
      "cell_type": "code",
      "execution_count": null,
      "id": "07e90dce",
      "metadata": {
        "id": "07e90dce",
        "outputId": "b0e7f468-c058-4cab-f948-50a925785f98"
      },
      "outputs": [
        {
          "name": "stdout",
          "output_type": "stream",
          "text": [
            "Confusion Matrix:\n"
          ]
        },
        {
          "data": {
            "image/png": "[encoded data removed]",
            "text/plain": [
              "<Figure size 200x200 with 1 Axes>"
            ]
          },
          "metadata": {},
          "output_type": "display_data"
        }
      ],
      "source": [
        "# generating the confusion matrix\n",
        "cf_matrix = confusion_matrix(y_val, y_pred_classes)\n",
        "\n",
        "group_names = [\"True Neg\",\"False Pos\",\"False Neg\",\"True Pos\"]\n",
        "group_counts = [\"{0:0.0f}\".format(value) for value in cf_matrix.flatten()]\n",
        "labels = [f\"{v1}\\n{v2}\" for v1, v2 in zip(group_names,group_counts)]\n",
        "labels = np.asarray(labels).reshape(2,2)\n",
        "\n",
        "fig = plt.figure(figsize=(2,2))\n",
        "sns.heatmap(cf_matrix, annot=labels, fmt=\"\", cmap='Blues',cbar=False,xticklabels=False, yticklabels=False)\n",
        "print(\"Confusion Matrix:\")\n",
        "plt.show()"
      ]
    },
    {
      "cell_type": "code",
      "execution_count": null,
      "id": "2aba1602",
      "metadata": {
        "id": "2aba1602",
        "outputId": "d271a631-c72e-4b14-88d8-23c2408aa3a5"
      },
      "outputs": [
        {
          "name": "stdout",
          "output_type": "stream",
          "text": [
            "F1-score & Loss vs. Epoch\n"
          ]
        },
        {
          "data": {
            "image/png": "[encoded data removed]",
            "text/plain": [
              "<Figure size 400x300 with 1 Axes>"
            ]
          },
          "metadata": {},
          "output_type": "display_data"
        }
      ],
      "source": [
        "# plotting loss & f1-score vs. epoch\n",
        "f1_scores = result[0].history['f1_score'] + result[1].history['f1_score']\n",
        "loss = result[0].history['loss'] + result[1].history['loss']\n",
        "\n",
        "fig = plt.figure(figsize=(4,3))\n",
        "plt.plot(f1_scores, label='f1-score')  \n",
        "plt.plot(loss, label='loss')\n",
        "plt.xlabel('Epoch')\n",
        "plt.legend(loc='center right')\n",
        "print(\"F1-score & Loss vs. Epoch\")\n",
        "plt.show()"
      ]
    },
    {
      "cell_type": "markdown",
      "id": "4ff54f6b",
      "metadata": {
        "id": "4ff54f6b"
      },
      "source": [
        "### Test data prediction"
      ]
    },
    {
      "cell_type": "code",
      "execution_count": null,
      "id": "b3b2d8a9",
      "metadata": {
        "id": "b3b2d8a9",
        "outputId": "d330f9a5-5d9c-49fd-bed5-23679327a6ee"
      },
      "outputs": [
        {
          "name": "stdout",
          "output_type": "stream",
          "text": [
            "Total number of test data:  175\n"
          ]
        }
      ],
      "source": [
        "# loading the test data\n",
        "test_data_dir = pathlib.Path(\"/Users/sajitshankar/tensorflow-test/IITG /HACKATHON 2/test_data\")\n",
        "test_images = list(test_data_dir.glob('Test_V1/*.jpg'))\n",
        "\n",
        "print(\"Total number of test data: \",len(test_images))"
      ]
    },
    {
      "cell_type": "code",
      "execution_count": null,
      "id": "bcfcac70",
      "metadata": {
        "id": "bcfcac70"
      },
      "outputs": [],
      "source": [
        "# preprocessing the test data\n",
        "\n",
        "X_test = []\n",
        "file_name = []\n",
        "\n",
        "for image in test_images:\n",
        "      img = cv2.imread(str(image))\n",
        "      if isinstance(img,type(None)): \n",
        "        pass\n",
        "          \n",
        "      elif ((img.shape[0] >= IMAGE_HEIGHT) and  (img.shape[1] >=IMAGE_WIDTH)):\n",
        "        resized_img = cv2.resize(img,(IMAGE_WIDTH,IMAGE_HEIGHT))\n",
        "        X_test.append(resized_img)\n",
        "        file_name.append(str(image).split(\"/\")[-1].replace(\".jpg\",\"\"))\n",
        "      else:\n",
        "        pass\n",
        "    \n",
        "X_test = np.array(X_test)"
      ]
    },
    {
      "cell_type": "code",
      "execution_count": null,
      "id": "9b60a548",
      "metadata": {
        "id": "9b60a548"
      },
      "outputs": [],
      "source": [
        "# getting test predictions\n",
        "y_pred_test = model.predict(X_test,verbose=0)\n",
        "\n",
        "cuttoff = 0.5 # setting a cutt-off value for the prediction class\n",
        "y_pred_test_classes = [0 if value < cuttoff else 1 for value in y_pred_test]"
      ]
    },
    {
      "cell_type": "code",
      "execution_count": null,
      "id": "6f07c74e",
      "metadata": {
        "id": "6f07c74e",
        "outputId": "1b8e4f60-5b1a-4453-cc9c-e11d1f2f5b21"
      },
      "outputs": [
        {
          "data": {
            "text/plain": [
              "1    0.514286\n",
              "0    0.485714\n",
              "dtype: float64"
            ]
          },
          "execution_count": 29,
          "metadata": {},
          "output_type": "execute_result"
        }
      ],
      "source": [
        "# checking the ratio of the classes in test data\n",
        "pd.Series(y_pred_test_classes).value_counts(normalize=True)"
      ]
    },
    {
      "cell_type": "code",
      "execution_count": null,
      "id": "814230f0",
      "metadata": {
        "id": "814230f0"
      },
      "outputs": [],
      "source": [
        "# exporting the test predictions\n",
        "sample_submission_df = pd.concat([pd.Series(file_name),pd.Series(y_pred_test_classes)],axis=1).rename(columns={0:\"SN\",1:\"Label\"})\n",
        "sample_submission_df[\"SN\"] = sample_submission_df[\"SN\"].astype(\"int\")\n",
        "sample_submission_df.sort_values(by=[\"SN\"],inplace=True)\n",
        "sample_submission_df.reset_index(drop=True,inplace=True)"
      ]
    },
    {
      "cell_type": "code",
      "execution_count": null,
      "id": "eaa48fcc",
      "metadata": {
        "id": "eaa48fcc",
        "outputId": "b15df595-3c04-4a6b-a61d-7d6ebe0c196d"
      },
      "outputs": [
        {
          "data": {
            "text/html": [
              "<div>\n",
              "<style scoped>\n",
              "    .dataframe tbody tr th:only-of-type {\n",
              "        vertical-align: middle;\n",
              "    }\n",
              "\n",
              "    .dataframe tbody tr th {\n",
              "        vertical-align: top;\n",
              "    }\n",
              "\n",
              "    .dataframe thead th {\n",
              "        text-align: right;\n",
              "    }\n",
              "</style>\n",
              "<table border=\"1\" class=\"dataframe\">\n",
              "  <thead>\n",
              "    <tr style=\"text-align: right;\">\n",
              "      <th></th>\n",
              "      <th>SN</th>\n",
              "      <th>Label</th>\n",
              "    </tr>\n",
              "  </thead>\n",
              "  <tbody>\n",
              "    <tr>\n",
              "      <th>0</th>\n",
              "      <td>1</td>\n",
              "      <td>1</td>\n",
              "    </tr>\n",
              "    <tr>\n",
              "      <th>1</th>\n",
              "      <td>2</td>\n",
              "      <td>1</td>\n",
              "    </tr>\n",
              "    <tr>\n",
              "      <th>2</th>\n",
              "      <td>3</td>\n",
              "      <td>1</td>\n",
              "    </tr>\n",
              "    <tr>\n",
              "      <th>3</th>\n",
              "      <td>4</td>\n",
              "      <td>1</td>\n",
              "    </tr>\n",
              "    <tr>\n",
              "      <th>4</th>\n",
              "      <td>5</td>\n",
              "      <td>1</td>\n",
              "    </tr>\n",
              "    <tr>\n",
              "      <th>5</th>\n",
              "      <td>6</td>\n",
              "      <td>1</td>\n",
              "    </tr>\n",
              "    <tr>\n",
              "      <th>6</th>\n",
              "      <td>7</td>\n",
              "      <td>1</td>\n",
              "    </tr>\n",
              "    <tr>\n",
              "      <th>7</th>\n",
              "      <td>8</td>\n",
              "      <td>1</td>\n",
              "    </tr>\n",
              "    <tr>\n",
              "      <th>8</th>\n",
              "      <td>9</td>\n",
              "      <td>1</td>\n",
              "    </tr>\n",
              "    <tr>\n",
              "      <th>9</th>\n",
              "      <td>10</td>\n",
              "      <td>1</td>\n",
              "    </tr>\n",
              "    <tr>\n",
              "      <th>10</th>\n",
              "      <td>11</td>\n",
              "      <td>1</td>\n",
              "    </tr>\n",
              "    <tr>\n",
              "      <th>11</th>\n",
              "      <td>12</td>\n",
              "      <td>1</td>\n",
              "    </tr>\n",
              "    <tr>\n",
              "      <th>12</th>\n",
              "      <td>13</td>\n",
              "      <td>1</td>\n",
              "    </tr>\n",
              "    <tr>\n",
              "      <th>13</th>\n",
              "      <td>14</td>\n",
              "      <td>1</td>\n",
              "    </tr>\n",
              "    <tr>\n",
              "      <th>14</th>\n",
              "      <td>15</td>\n",
              "      <td>1</td>\n",
              "    </tr>\n",
              "    <tr>\n",
              "      <th>15</th>\n",
              "      <td>16</td>\n",
              "      <td>1</td>\n",
              "    </tr>\n",
              "    <tr>\n",
              "      <th>16</th>\n",
              "      <td>17</td>\n",
              "      <td>1</td>\n",
              "    </tr>\n",
              "    <tr>\n",
              "      <th>17</th>\n",
              "      <td>18</td>\n",
              "      <td>0</td>\n",
              "    </tr>\n",
              "    <tr>\n",
              "      <th>18</th>\n",
              "      <td>19</td>\n",
              "      <td>1</td>\n",
              "    </tr>\n",
              "    <tr>\n",
              "      <th>19</th>\n",
              "      <td>20</td>\n",
              "      <td>1</td>\n",
              "    </tr>\n",
              "    <tr>\n",
              "      <th>20</th>\n",
              "      <td>21</td>\n",
              "      <td>1</td>\n",
              "    </tr>\n",
              "    <tr>\n",
              "      <th>21</th>\n",
              "      <td>22</td>\n",
              "      <td>1</td>\n",
              "    </tr>\n",
              "    <tr>\n",
              "      <th>22</th>\n",
              "      <td>23</td>\n",
              "      <td>1</td>\n",
              "    </tr>\n",
              "    <tr>\n",
              "      <th>23</th>\n",
              "      <td>24</td>\n",
              "      <td>1</td>\n",
              "    </tr>\n",
              "    <tr>\n",
              "      <th>24</th>\n",
              "      <td>25</td>\n",
              "      <td>1</td>\n",
              "    </tr>\n",
              "    <tr>\n",
              "      <th>25</th>\n",
              "      <td>26</td>\n",
              "      <td>1</td>\n",
              "    </tr>\n",
              "    <tr>\n",
              "      <th>26</th>\n",
              "      <td>27</td>\n",
              "      <td>1</td>\n",
              "    </tr>\n",
              "    <tr>\n",
              "      <th>27</th>\n",
              "      <td>28</td>\n",
              "      <td>1</td>\n",
              "    </tr>\n",
              "    <tr>\n",
              "      <th>28</th>\n",
              "      <td>29</td>\n",
              "      <td>1</td>\n",
              "    </tr>\n",
              "    <tr>\n",
              "      <th>29</th>\n",
              "      <td>30</td>\n",
              "      <td>1</td>\n",
              "    </tr>\n",
              "    <tr>\n",
              "      <th>30</th>\n",
              "      <td>31</td>\n",
              "      <td>1</td>\n",
              "    </tr>\n",
              "    <tr>\n",
              "      <th>31</th>\n",
              "      <td>32</td>\n",
              "      <td>1</td>\n",
              "    </tr>\n",
              "    <tr>\n",
              "      <th>32</th>\n",
              "      <td>33</td>\n",
              "      <td>1</td>\n",
              "    </tr>\n",
              "    <tr>\n",
              "      <th>33</th>\n",
              "      <td>34</td>\n",
              "      <td>0</td>\n",
              "    </tr>\n",
              "    <tr>\n",
              "      <th>34</th>\n",
              "      <td>35</td>\n",
              "      <td>1</td>\n",
              "    </tr>\n",
              "    <tr>\n",
              "      <th>35</th>\n",
              "      <td>36</td>\n",
              "      <td>1</td>\n",
              "    </tr>\n",
              "    <tr>\n",
              "      <th>36</th>\n",
              "      <td>37</td>\n",
              "      <td>1</td>\n",
              "    </tr>\n",
              "    <tr>\n",
              "      <th>37</th>\n",
              "      <td>38</td>\n",
              "      <td>1</td>\n",
              "    </tr>\n",
              "    <tr>\n",
              "      <th>38</th>\n",
              "      <td>39</td>\n",
              "      <td>1</td>\n",
              "    </tr>\n",
              "    <tr>\n",
              "      <th>39</th>\n",
              "      <td>40</td>\n",
              "      <td>1</td>\n",
              "    </tr>\n",
              "    <tr>\n",
              "      <th>40</th>\n",
              "      <td>41</td>\n",
              "      <td>1</td>\n",
              "    </tr>\n",
              "    <tr>\n",
              "      <th>41</th>\n",
              "      <td>42</td>\n",
              "      <td>1</td>\n",
              "    </tr>\n",
              "    <tr>\n",
              "      <th>42</th>\n",
              "      <td>43</td>\n",
              "      <td>1</td>\n",
              "    </tr>\n",
              "    <tr>\n",
              "      <th>43</th>\n",
              "      <td>44</td>\n",
              "      <td>1</td>\n",
              "    </tr>\n",
              "    <tr>\n",
              "      <th>44</th>\n",
              "      <td>45</td>\n",
              "      <td>1</td>\n",
              "    </tr>\n",
              "    <tr>\n",
              "      <th>45</th>\n",
              "      <td>46</td>\n",
              "      <td>0</td>\n",
              "    </tr>\n",
              "    <tr>\n",
              "      <th>46</th>\n",
              "      <td>47</td>\n",
              "      <td>1</td>\n",
              "    </tr>\n",
              "    <tr>\n",
              "      <th>47</th>\n",
              "      <td>48</td>\n",
              "      <td>1</td>\n",
              "    </tr>\n",
              "    <tr>\n",
              "      <th>48</th>\n",
              "      <td>49</td>\n",
              "      <td>1</td>\n",
              "    </tr>\n",
              "    <tr>\n",
              "      <th>49</th>\n",
              "      <td>50</td>\n",
              "      <td>1</td>\n",
              "    </tr>\n",
              "  </tbody>\n",
              "</table>\n",
              "</div>"
            ],
            "text/plain": [
              "    SN  Label\n",
              "0    1      1\n",
              "1    2      1\n",
              "2    3      1\n",
              "3    4      1\n",
              "4    5      1\n",
              "5    6      1\n",
              "6    7      1\n",
              "7    8      1\n",
              "8    9      1\n",
              "9   10      1\n",
              "10  11      1\n",
              "11  12      1\n",
              "12  13      1\n",
              "13  14      1\n",
              "14  15      1\n",
              "15  16      1\n",
              "16  17      1\n",
              "17  18      0\n",
              "18  19      1\n",
              "19  20      1\n",
              "20  21      1\n",
              "21  22      1\n",
              "22  23      1\n",
              "23  24      1\n",
              "24  25      1\n",
              "25  26      1\n",
              "26  27      1\n",
              "27  28      1\n",
              "28  29      1\n",
              "29  30      1\n",
              "30  31      1\n",
              "31  32      1\n",
              "32  33      1\n",
              "33  34      0\n",
              "34  35      1\n",
              "35  36      1\n",
              "36  37      1\n",
              "37  38      1\n",
              "38  39      1\n",
              "39  40      1\n",
              "40  41      1\n",
              "41  42      1\n",
              "42  43      1\n",
              "43  44      1\n",
              "44  45      1\n",
              "45  46      0\n",
              "46  47      1\n",
              "47  48      1\n",
              "48  49      1\n",
              "49  50      1"
            ]
          },
          "execution_count": 41,
          "metadata": {},
          "output_type": "execute_result"
        }
      ],
      "source": [
        "sample_submission_df.head(50)"
      ]
    },
    {
      "cell_type": "code",
      "execution_count": null,
      "id": "7de429aa",
      "metadata": {
        "id": "7de429aa"
      },
      "outputs": [],
      "source": [
        "sample_submission_df.to_csv(\"/Users/sajitshankar/tensorflow-test/IITG /HACKATHON 2/sample_test_label_brain_stroke_v3_final.csv\",index=False)"
      ]
    }
  ],
  "metadata": {
    "colab": {
      "provenance": []
    },
    "kernelspec": {
      "display_name": "Python 3 (ipykernel)",
      "language": "python",
      "name": "python3"
    },
    "language_info": {
      "codemirror_mode": {
        "name": "ipython",
        "version": 3
      },
      "file_extension": ".py",
      "mimetype": "text/x-python",
      "name": "python",
      "nbconvert_exporter": "python",
      "pygments_lexer": "ipython3",
      "version": "3.10.6"
    }
  },
  "nbformat": 4,
  "nbformat_minor": 5
}
